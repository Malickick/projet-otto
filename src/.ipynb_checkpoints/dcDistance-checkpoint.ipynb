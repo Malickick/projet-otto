{
 "cells": [
  {
   "cell_type": "code",
   "execution_count": 3,
   "metadata": {},
   "outputs": [],
   "source": [
    "from sklearn.metrics.pairwise import pairwise_distances\n",
    "import matplotlib.pyplot as plt\n",
    "import pandas as pd\n",
    "import numpy as np\n",
    "import time"
   ]
  },
  {
   "cell_type": "code",
   "execution_count": 4,
   "metadata": {},
   "outputs": [
    {
     "name": "stdout",
     "output_type": "stream",
     "text": [
      "<class 'numpy.ndarray'>\n",
      "(61878,)\n",
      "(61878, 93)\n",
      "(144368, 93)\n",
      "Construction des centroïdes\n",
      "Construction de la représentation dcDistance\n",
      "Construction terminée \n",
      "\n"
     ]
    }
   ],
   "source": [
    "df = pd.read_csv(\"../data/train.csv\").drop(\"id\",axis=1)\n",
    "df_test = pd.read_csv(\"../data/test.csv\").drop(\"id\",axis=1)\n",
    "\n",
    "labels = df[\"target\"].values\n",
    "print(type(labels))\n",
    "print(labels.shape)\n",
    "\n",
    "unique_labels = np.unique(labels)\n",
    "nb_labels = len(unique_labels)\n",
    "\n",
    "df_train = df.drop(\"target\", axis=1)\n",
    "\n",
    "X = df_train.values\n",
    "X_test = df_test.values\n",
    "\n",
    "print(X.shape)\n",
    "print(X_test.shape)\n",
    "\n",
    "y = []\n",
    "for label in labels:\n",
    "    y.append(int(label[-1:])-1)\n",
    "y = np.asarray(y)\n",
    "\n",
    "\n",
    "print(\"Construction des centroïdes\")\n",
    "centroids = []\n",
    "for label in unique_labels:\n",
    "    same_labels = df_train.loc[df['target'] == label]\n",
    "    same_labels = same_labels.values\n",
    "    centroids.append(same_labels.sum(axis = 0)/same_labels.shape[0])\n",
    "centroids = np.asarray(centroids)\n",
    "\n",
    "\n",
    "print(\"Construction de la représentation dcDistance\")\n",
    "\n",
    "X_dc = pairwise_distances(X,centroids)\n",
    "X_test_dc = pairwise_distances(X_test, centroids, metric='minkowski')\n",
    "\n",
    "print(\"Construction terminée \\n\")\n",
    "\n",
    "y_train = y"
   ]
  },
  {
   "cell_type": "code",
   "execution_count": null,
   "metadata": {},
   "outputs": [],
   "source": []
  }
 ],
 "metadata": {
  "kernelspec": {
   "display_name": "Python 3",
   "language": "python",
   "name": "python3"
  },
  "language_info": {
   "codemirror_mode": {
    "name": "ipython",
    "version": 3
   },
   "file_extension": ".py",
   "mimetype": "text/x-python",
   "name": "python",
   "nbconvert_exporter": "python",
   "pygments_lexer": "ipython3",
   "version": "3.6.5"
  }
 },
 "nbformat": 4,
 "nbformat_minor": 2
}
