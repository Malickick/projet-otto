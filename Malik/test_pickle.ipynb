{
 "cells": [
  {
   "cell_type": "code",
   "execution_count": 129,
   "metadata": {},
   "outputs": [],
   "source": [
    "from sklearn.model_selection import train_test_split\n",
    "from sklearn.metrics import accuracy_score, log_loss\n",
    "from sklearn.neighbors import KNeighborsClassifier\n",
    "from sklearn.preprocessing import normalize,scale\n",
    "from sklearn.metrics.pairwise import pairwise_distances\n",
    "import matplotlib.pyplot as plt\n",
    "from sklearn.svm import SVC\n",
    "from sklearn.ensemble import RandomForestClassifier\n",
    "import pandas as pd\n",
    "import numpy as np\n",
    "import time\n",
    "import pickle\n",
    "\n",
    "\n",
    "def sigmoid(x):\n",
    "    return 1 / (1 + np.exp(-x))\n",
    "\n",
    "def stretch(x):\n",
    "    return (x-x.min())/(x.max()-x.min())"
   ]
  },
  {
   "cell_type": "code",
   "execution_count": 91,
   "metadata": {},
   "outputs": [
    {
     "name": "stdout",
     "output_type": "stream",
     "text": [
      "[[20 50 60]\n",
      " [21 52 64]\n",
      " [ 8 40 70]]\n"
     ]
    }
   ],
   "source": [
    "test = np.array([20,50,60,21,52,64,8,40,70]).reshape(3,3)\n",
    "print(test)"
   ]
  },
  {
   "cell_type": "code",
   "execution_count": 100,
   "metadata": {},
   "outputs": [
    {
     "name": "stdout",
     "output_type": "stream",
     "text": [
      "[[0.92307692 1.         0.        ]]\n",
      "[[0.83333333 1.         0.        ]]\n",
      "[[0.  0.4 1. ]]\n"
     ]
    }
   ],
   "source": [
    "res0 = (test[:,0]-test[:,0].min())/(test[:,0].max()-test[:,0].min()).reshape(-1,1)\n",
    "res1 = (test[:,1]-test[:,1].min())/(test[:,1].max()-test[:,1].min()).reshape(-1,1)\n",
    "res2 = (test[:,2]-test[:,2].min())/(test[:,2].max()-test[:,2].min()).reshape(-1,1)"
   ]
  },
  {
   "cell_type": "code",
   "execution_count": 103,
   "metadata": {},
   "outputs": [
    {
     "name": "stdout",
     "output_type": "stream",
     "text": [
      "[[0.92307692 0.83333333 0.        ]\n",
      " [1.         1.         0.4       ]\n",
      " [0.         0.         1.        ]]\n"
     ]
    }
   ],
   "source": [
    "print(np.concatenate((res0,res1,res2,),axis=0).T)"
   ]
  },
  {
   "cell_type": "code",
   "execution_count": 121,
   "metadata": {},
   "outputs": [
    {
     "name": "stdout",
     "output_type": "stream",
     "text": [
      "<class 'numpy.ndarray'>\n",
      "(61878,)\n",
      "(61878, 93)\n",
      "(144368, 93)\n",
      "Construction des centroïdes\n",
      "Construction de la représentation dcDistance\n",
      "Construction terminée \n",
      "\n"
     ]
    }
   ],
   "source": [
    "df = pd.read_csv(\"../data/train.csv\").drop(\"id\",axis=1)\n",
    "df_test = pd.read_csv(\"../data/test.csv\").drop(\"id\",axis=1)\n",
    "\n",
    "labels = df[\"target\"].values\n",
    "print(type(labels))\n",
    "print(labels.shape)\n",
    "\n",
    "unique_labels = np.unique(labels)\n",
    "nb_labels = len(unique_labels)\n",
    "\n",
    "df_train = df.drop(\"target\", axis=1)\n",
    "\n",
    "X = df_train.values\n",
    "X_test = df_test.values\n",
    "\n",
    "print(X.shape)\n",
    "print(X_test.shape)\n",
    "\n",
    "y = []\n",
    "for label in labels:\n",
    "    y.append(int(label[-1:]))\n",
    "y = np.asarray(y)\n",
    "\n",
    "\n",
    "print(\"Construction des centroïdes\")\n",
    "centroids = []\n",
    "for label in unique_labels:\n",
    "    same_labels = df_train.loc[df['target'] == label]\n",
    "    same_labels = same_labels.values\n",
    "    centroids.append(same_labels.sum(axis = 0)/same_labels.shape[0])\n",
    "centroids = np.asarray(centroids)\n",
    "\n",
    "\n",
    "print(\"Construction de la représentation dcDistance\")\n",
    "\n",
    "X_dc = pairwise_distances(X,centroids)\n",
    "X_test_dc = pairwise_distances(X_test, centroids, metric='minkowski')\n",
    "\n",
    "print(\"Construction terminée \\n\")\n",
    "\n",
    "y_train = y"
   ]
  },
  {
   "cell_type": "code",
   "execution_count": 133,
   "metadata": {},
   "outputs": [],
   "source": [
    "res = (X_test_dc[:,0]-X_test_dc[:,0].min())/(X_test_dc[:,0].max()-X_test_dc[:,0].min()).reshape(-1,1)\n",
    "\n",
    "for i in range(1,nb_labels):\n",
    "    res_i = (X_test_dc[:,i]-X_test_dc[:,i].min())/(X_test_dc[:,i].max()-X_test_dc[:,i].min()).reshape(-1,1)\n",
    "    res = np.concatenate((res,res_i), axis = 0)\n",
    "res = res.T"
   ]
  },
  {
   "cell_type": "code",
   "execution_count": 135,
   "metadata": {},
   "outputs": [
    {
     "name": "stdout",
     "output_type": "stream",
     "text": [
      "(144368, 9)\n"
     ]
    }
   ],
   "source": [
    "print(res.shape)"
   ]
  },
  {
   "cell_type": "code",
   "execution_count": 140,
   "metadata": {},
   "outputs": [
    {
     "name": "stderr",
     "output_type": "stream",
     "text": [
      "C:\\Program Files (x86)\\Microsoft Visual Studio\\Shared\\Python36_64\\lib\\site-packages\\ipykernel_launcher.py:1: RuntimeWarning: invalid value encountered in true_divide\n",
      "  \"\"\"Entry point for launching an IPython kernel.\n"
     ]
    }
   ],
   "source": [
    "res_final = np.array(list(map(lambda x : (x-x.min())/(x.max()-x.min()), res)))\n",
    "res_final = np.array(list(map(lambda x : x/x.sum(), res_final)))\n"
   ]
  },
  {
   "cell_type": "code",
   "execution_count": 142,
   "metadata": {},
   "outputs": [
    {
     "name": "stdout",
     "output_type": "stream",
     "text": [
      "0.9999999999999999\n"
     ]
    }
   ],
   "source": []
  },
  {
   "cell_type": "code",
   "execution_count": 4,
   "metadata": {},
   "outputs": [
    {
     "name": "stdout",
     "output_type": "stream",
     "text": [
      "Apprentissage données en représentation dcDistance\n",
      "done\n"
     ]
    }
   ],
   "source": [
    "start = time.time()\n",
    "\n",
    "k_neighbors = 2\n",
    "\n",
    "\n",
    "print(\"Apprentissage données en représentation dcDistance\")\n",
    "\n",
    "X_train_dc = scale(normalize(X_dc))\n",
    "\n",
    "knn = KNeighborsClassifier(n_neighbors = k_neighbors)\n",
    "knn.fit(X_train_dc, y_train)\n",
    "\n",
    "\n",
    "print('done')"
   ]
  },
  {
   "cell_type": "code",
   "execution_count": null,
   "metadata": {},
   "outputs": [],
   "source": [
    "pred_proba = knn.predict_proba(X_test_dc)\n",
    "\n",
    "print(pred_proba[:10])\n",
    "\n",
    "pickle.dump(pred_proba, open('../data/dc.csv', 'wb'))\n",
    "\n"
   ]
  },
  {
   "cell_type": "code",
   "execution_count": null,
   "metadata": {},
   "outputs": [],
   "source": []
  }
 ],
 "metadata": {
  "kernelspec": {
   "display_name": "Python 3",
   "language": "python",
   "name": "python3"
  },
  "language_info": {
   "codemirror_mode": {
    "name": "ipython",
    "version": 3
   },
   "file_extension": ".py",
   "mimetype": "text/x-python",
   "name": "python",
   "nbconvert_exporter": "python",
   "pygments_lexer": "ipython3",
   "version": "3.6.5"
  }
 },
 "nbformat": 4,
 "nbformat_minor": 2
}
