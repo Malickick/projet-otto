{
 "cells": [
  {
   "cell_type": "code",
   "execution_count": 17,
   "metadata": {},
   "outputs": [
    {
     "data": {
      "text/plain": [
       "array([[9.99999998e-08],\n",
       "       [2.50002492e-01],\n",
       "       [4.99997500e-01],\n",
       "       [7.49997711e-01],\n",
       "       [9.99999900e-01]])"
      ]
     },
     "execution_count": 17,
     "metadata": {},
     "output_type": "execute_result"
    }
   ],
   "source": [
    "import numpy as np\n",
    "from sklearn.preprocessing import QuantileTransformer\n",
    "rng = np.random.RandomState(0)\n",
    "X = np.array([0,4000,4010,4040,4505]).reshape(-1,1)\n",
    "qt = QuantileTransformer(n_quantiles=100000, random_state=0)\n",
    "qt.fit_transform(X)"
   ]
  },
  {
   "cell_type": "code",
   "execution_count": 18,
   "metadata": {},
   "outputs": [
    {
     "name": "stdout",
     "output_type": "stream",
     "text": [
      "[[-100.25 ]\n",
      " [  -0.25 ]\n",
      " [   0.   ]\n",
      " [   0.75 ]\n",
      " [  12.375]]\n",
      "[[9.99999998e-08 2.50002492e-01 4.99997500e-01 7.49997711e-01\n",
      "  9.99999900e-01]]\n"
     ]
    }
   ],
   "source": [
    "from sklearn.preprocessing import RobustScaler\n",
    "X = np.array([0,4000,4010,4040,4505]).reshape(-1,1)\n",
    "transformer = RobustScaler().fit(X)\n",
    "transformer\n",
    "\n",
    "\n",
    "X = transformer.transform(X)\n",
    "print(X)\n",
    "X = qt.fit_transform(X)\n",
    "print(X.T)"
   ]
  },
  {
   "cell_type": "code",
   "execution_count": 19,
   "metadata": {},
   "outputs": [
    {
     "name": "stdout",
     "output_type": "stream",
     "text": [
      "[[9.99999998e-08 2.50002492e-01 4.99997500e-01 7.49997711e-01\n",
      "  9.99999900e-01]]\n"
     ]
    }
   ],
   "source": [
    "print(X.T)"
   ]
  },
  {
   "cell_type": "code",
   "execution_count": null,
   "metadata": {},
   "outputs": [],
   "source": []
  }
 ],
 "metadata": {
  "kernelspec": {
   "display_name": "Python 3",
   "language": "python",
   "name": "python3"
  },
  "language_info": {
   "codemirror_mode": {
    "name": "ipython",
    "version": 3
   },
   "file_extension": ".py",
   "mimetype": "text/x-python",
   "name": "python",
   "nbconvert_exporter": "python",
   "pygments_lexer": "ipython3",
   "version": "3.6.5"
  }
 },
 "nbformat": 4,
 "nbformat_minor": 2
}
